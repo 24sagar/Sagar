{
 "cells": [
  {
   "cell_type": "code",
   "execution_count": 1,
   "id": "1351dbbd",
   "metadata": {},
   "outputs": [],
   "source": [
    "import pandas as pd\n",
    "import numpy as np\n",
    "import matplotlib.pyplot as plt\n",
    "import seaborn as sns"
   ]
  },
  {
   "cell_type": "code",
   "execution_count": 4,
   "id": "57b949d0",
   "metadata": {},
   "outputs": [],
   "source": [
    "col_names =['Sepal_Length','Sepal_Width','Petal_Length','Petal_Width','Species']"
   ]
  },
  {
   "cell_type": "code",
   "execution_count": 8,
   "id": "0259d550",
   "metadata": {},
   "outputs": [],
   "source": [
    "iris = pd.read_csv('iris.csv', names = col_names)"
   ]
  },
  {
   "cell_type": "code",
   "execution_count": 9,
   "id": "c1ba8c68",
   "metadata": {},
   "outputs": [],
   "source": [
    "irisSet = (iris['Species']== 'Iris-setosa')"
   ]
  },
  {
   "cell_type": "code",
   "execution_count": 12,
   "id": "2168f4d9",
   "metadata": {},
   "outputs": [
    {
     "name": "stdout",
     "output_type": "stream",
     "text": [
      "Iris-setosa\n"
     ]
    }
   ],
   "source": [
    "print('Iris-setosa')"
   ]
  },
  {
   "cell_type": "code",
   "execution_count": 13,
   "id": "8af95ea7",
   "metadata": {},
   "outputs": [
    {
     "name": "stdout",
     "output_type": "stream",
     "text": [
      "       Sepal_Length Sepal_Width Petal_Length Petal_Width Species\n",
      "count             0           0            0           0       0\n",
      "unique            0           0            0           0       0\n",
      "top             NaN         NaN          NaN         NaN     NaN\n",
      "freq            NaN         NaN          NaN         NaN     NaN\n"
     ]
    }
   ],
   "source": [
    "print(iris[irisSet].describe())"
   ]
  },
  {
   "cell_type": "code",
   "execution_count": 14,
   "id": "89c327ed",
   "metadata": {},
   "outputs": [],
   "source": [
    "irisVer = (iris['Species']== 'Iris-versicolor')"
   ]
  },
  {
   "cell_type": "code",
   "execution_count": 15,
   "id": "fb6f1b05",
   "metadata": {},
   "outputs": [
    {
     "name": "stdout",
     "output_type": "stream",
     "text": [
      "Iris-versicolor\n"
     ]
    }
   ],
   "source": [
    "print('Iris-versicolor')"
   ]
  },
  {
   "cell_type": "code",
   "execution_count": 16,
   "id": "a20fbd7a",
   "metadata": {},
   "outputs": [
    {
     "name": "stdout",
     "output_type": "stream",
     "text": [
      "       Sepal_Length Sepal_Width Petal_Length Petal_Width Species\n",
      "count             0           0            0           0       0\n",
      "unique            0           0            0           0       0\n",
      "top             NaN         NaN          NaN         NaN     NaN\n",
      "freq            NaN         NaN          NaN         NaN     NaN\n"
     ]
    }
   ],
   "source": [
    "print(iris[irisVer].describe())"
   ]
  },
  {
   "cell_type": "code",
   "execution_count": 17,
   "id": "021805dc",
   "metadata": {},
   "outputs": [],
   "source": [
    "irisVir = (iris['Species']== 'Iris-virginica')"
   ]
  },
  {
   "cell_type": "code",
   "execution_count": 18,
   "id": "a30e2a72",
   "metadata": {},
   "outputs": [
    {
     "name": "stdout",
     "output_type": "stream",
     "text": [
      "Iris-virginica\n"
     ]
    }
   ],
   "source": [
    "print('Iris-virginica')"
   ]
  },
  {
   "cell_type": "code",
   "execution_count": 19,
   "id": "e5911e69",
   "metadata": {},
   "outputs": [
    {
     "name": "stdout",
     "output_type": "stream",
     "text": [
      "       Sepal_Length Sepal_Width Petal_Length Petal_Width Species\n",
      "count             0           0            0           0       0\n",
      "unique            0           0            0           0       0\n",
      "top             NaN         NaN          NaN         NaN     NaN\n",
      "freq            NaN         NaN          NaN         NaN     NaN\n"
     ]
    }
   ],
   "source": [
    "print(iris[irisVir].describe())"
   ]
  },
  {
   "cell_type": "code",
   "execution_count": null,
   "id": "017ab3b5",
   "metadata": {},
   "outputs": [],
   "source": []
  }
 ],
 "metadata": {
  "kernelspec": {
   "display_name": "Python 3 (ipykernel)",
   "language": "python",
   "name": "python3"
  },
  "language_info": {
   "codemirror_mode": {
    "name": "ipython",
    "version": 3
   },
   "file_extension": ".py",
   "mimetype": "text/x-python",
   "name": "python",
   "nbconvert_exporter": "python",
   "pygments_lexer": "ipython3",
   "version": "3.11.5"
  }
 },
 "nbformat": 4,
 "nbformat_minor": 5
}
